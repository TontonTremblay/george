{
 "cells": [
  {
   "cell_type": "code",
   "execution_count": 2,
   "metadata": {
    "collapsed": false
   },
   "outputs": [],
   "source": [
    "import tensorflow as tf\n",
    "import pandas as pd\n",
    "import numpy as np\n",
    "import os\n",
    "#data_path = os.path.join('..', 'Data', 'seq_struct_data.csv')\n",
    "#df = pd.read_csv(data_path)\n",
    "data_path = os.path.join('..', 'Data', 'seq_data.csv')\n",
    "df = pd.read_csv(data_path)\n",
    "#df.columns"
   ]
  },
  {
   "cell_type": "code",
   "execution_count": 3,
   "metadata": {
    "collapsed": false
   },
   "outputs": [
    {
     "name": "stderr",
     "output_type": "stream",
     "text": [
      "/usr/local/lib/python2.7/site-packages/ipykernel/__main__.py:16: DeprecationWarning: using a non-integer number instead of an integer will result in an error in the future\n",
      "/usr/local/lib/python2.7/site-packages/ipykernel/__main__.py:17: DeprecationWarning: using a non-integer number instead of an integer will result in an error in the future\n",
      "/usr/local/lib/python2.7/site-packages/ipykernel/__main__.py:18: DeprecationWarning: using a non-integer number instead of an integer will result in an error in the future\n",
      "/usr/local/lib/python2.7/site-packages/ipykernel/__main__.py:19: DeprecationWarning: using a non-integer number instead of an integer will result in an error in the future\n"
     ]
    }
   ],
   "source": [
    "def getData(data):\n",
    "    data = data.reindex(np.random.permutation(df.index))\n",
    "    data = data.values\n",
    "    X = data[:,:-2]\n",
    "    y = data[:,-1]\n",
    "    #Change the y to a 2dimensionnal \n",
    "    ytemp = []\n",
    "    for i in y:\n",
    "        if i is 0:\n",
    "            ytemp.append([1,0])\n",
    "        else:\n",
    "            ytemp.append([0,1])\n",
    "    y = np.array(ytemp)\n",
    "    \n",
    "    t = 0.15 #keep 15 percent for testing\n",
    "    x_train = X[t*len(X):]\n",
    "    x_test = X[:t*len(X)]\n",
    "    y_train = y[t*len(y):]\n",
    "    y_test = y[:t*len(y)]\n",
    "    return (x_train,y_train,x_test,y_test)\n",
    "    \n",
    "xy = getData(df)"
   ]
  },
  {
   "cell_type": "code",
   "execution_count": 4,
   "metadata": {
    "collapsed": false
   },
   "outputs": [],
   "source": [
    "\n",
    "#2 is hard coded but it should be the number of unique things in y or xy[1]\n",
    "numbClasses = 2\n",
    "numbDim= len(xy[0][0])\n",
    "x = tf.placeholder(\"float\", shape=[None,numbDim])\n",
    "y_ = tf.placeholder(\"float\", shape=[None, numbClasses])\n",
    "\n",
    "W = tf.Variable(tf.zeros([numbDim,numbClasses]))\n",
    "b = tf.Variable(tf.zeros([numbClasses]))"
   ]
  },
  {
   "cell_type": "code",
   "execution_count": 5,
   "metadata": {
    "collapsed": false
   },
   "outputs": [],
   "source": [
    "sess = tf.InteractiveSession()\n",
    "sess.run(tf.initialize_all_variables())\n",
    "y = tf.nn.softmax(tf.matmul(x,W) + b)\n",
    "cross_entropy = -tf.reduce_sum(y_*tf.log(y))\n",
    "train_step = tf.train.GradientDescentOptimizer(0.01).minimize(cross_entropy)"
   ]
  },
  {
   "cell_type": "code",
   "execution_count": 6,
   "metadata": {
    "collapsed": false
   },
   "outputs": [],
   "source": [
    "import random\n",
    "\n",
    "for i in range(1000):\n",
    "    index = random.randint(0,len(xy[0])-50)\n",
    "    batch = [xy[0][index:index+50],xy[1][index:index+50]]\n",
    "\n",
    "    train_step.run(feed_dict={x: batch[0], y_: batch[1]})\n",
    "    "
   ]
  },
  {
   "cell_type": "code",
   "execution_count": 7,
   "metadata": {
    "collapsed": false
   },
   "outputs": [
    {
     "name": "stdout",
     "output_type": "stream",
     "text": [
      "0.549383\n"
     ]
    }
   ],
   "source": [
    "correct_prediction = tf.equal(tf.argmax(y,1), tf.argmax(y_,1))\n",
    "accuracy = tf.reduce_mean(tf.cast(correct_prediction, \"float\"))\n",
    "\n",
    "print accuracy.eval(feed_dict={x: xy[2], y_: xy[3]})"
   ]
  },
  {
   "cell_type": "code",
   "execution_count": 8,
   "metadata": {
    "collapsed": false
   },
   "outputs": [],
   "source": [
    "#lets try with two layers. \n"
   ]
  }
 ],
 "metadata": {
  "kernelspec": {
   "display_name": "Python 2",
   "language": "python",
   "name": "python2"
  },
  "language_info": {
   "codemirror_mode": {
    "name": "ipython",
    "version": 2
   },
   "file_extension": ".py",
   "mimetype": "text/x-python",
   "name": "python",
   "nbconvert_exporter": "python",
   "pygments_lexer": "ipython2",
   "version": "2.7.10"
  }
 },
 "nbformat": 4,
 "nbformat_minor": 0
}
