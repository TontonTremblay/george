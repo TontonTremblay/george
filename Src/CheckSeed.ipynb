{
 "cells": [
  {
   "cell_type": "code",
   "execution_count": 1,
   "metadata": {
    "collapsed": true
   },
   "outputs": [],
   "source": [
    "from TrainModel3Layers import *"
   ]
  },
  {
   "cell_type": "code",
   "execution_count": 5,
   "metadata": {
    "collapsed": false
   },
   "outputs": [],
   "source": [
    "#find the seeds\n",
    "def FindSeeds(seeds,name):\n",
    "    with open(name,'r') as inf:\n",
    "        for line in inf:\n",
    "            l = line.split(' ')\n",
    "            if len(l[0])>5:\n",
    "                seeds[l[0]] = 1\n",
    "        return seeds\n",
    "\n",
    "seeds = {}\n",
    "seeds = FindSeeds(seeds,'../Data/RF00083.stockholm.txt')\n",
    "seeds = FindSeeds(seeds,'../Data/RF00128.stockholm.txt')\n",
    "df = pd.read_csv('../Data/seq_data_no_clan.csv')\n",
    "dataTrain = []\n",
    "dataTest = []\n",
    "\n",
    "for i in range(len(df)):\n",
    "    if df.iloc[i][-2] in seeds:\n",
    "        dataTest.append(df.iloc[i].values)\n",
    "    else:\n",
    "        dataTrain.append(df.iloc[i].values)\n",
    "\n",
    "dataTrain = np.array(dataTrain)\n",
    "dataTest = np.array(dataTest)\n",
    "\n",
    "dfTrain = pd.DataFrame(dataTrain,columns=df.columns)\n",
    "dfTrain.to_csv('../Data/Seed_seq_train.csv',index_label=False)\n",
    "\n",
    "dfTest = pd.DataFrame(dataTest,columns=df.columns)\n",
    "dfTest.to_csv('../Data/Seed_seq_test.csv',index_label=False)"
   ]
  },
  {
   "cell_type": "code",
   "execution_count": 3,
   "metadata": {
    "collapsed": false
   },
   "outputs": [
    {
     "name": "stdout",
     "output_type": "stream",
     "text": [
      "Epoch: 0001 cost= 0.000000000\n",
      "Epoch: 0002 cost= 0.000000000\n",
      "Epoch: 0003 cost= 0.000000000\n",
      "Epoch: 0004 cost= 0.000000000\n",
      "Epoch: 0005 cost= 0.000000000\n",
      "Epoch: 0006 cost= 0.000000000\n",
      "Epoch: 0007 cost= 0.000000000\n",
      "Epoch: 0008 cost= 0.000000000\n",
      "Epoch: 0009 cost= 0.000000000\n",
      "Epoch: 0010 cost= 0.000000000\n",
      "1.0\n"
     ]
    }
   ],
   "source": [
    "#Train using everything that does not collide. \n",
    "dftemp = pd.DataFrame(dataTrain)\n",
    "dftempTest = pd.DataFrame(dataTest)\n",
    "# xy = getDataTrainTest(df)\n",
    "xy = getDataTest(dftemp)\n",
    "xy.append(getDataTest(dftempTest)[0])\n",
    "xy.append(getDataTest(dftempTest)[1])\n",
    "predData = Fit(xy,debug=True)\n",
    "\n"
   ]
  },
  {
   "cell_type": "code",
   "execution_count": 4,
   "metadata": {
    "collapsed": false
   },
   "outputs": [
    {
     "name": "stdout",
     "output_type": "stream",
     "text": [
      "BX571874.1/204902-204687 , predict: [1] supposed: 0 cost: [[  -981.4229126  24185.       ]] soft: [[ 0.  1.]]\n",
      "CP000720.1/222226-222448 , predict: [1] supposed: 0 cost: [[-11657.61816406  32870.9609375 ]] soft: [[ 0.  1.]]\n",
      "CP001144.1/4170255-4170462 , predict: [1] supposed: 0 cost: [[ -2775.23364258  25763.17773438]] soft: [[ 0.  1.]]\n",
      "CP000826.1/198017-198236 , predict: [1] supposed: 0 cost: [[ -8508.36621094  35641.59375   ]] soft: [[ 0.  1.]]\n",
      "CP000653.1/4326971-4326771 , predict: [1] supposed: 0 cost: [[ -3607.22973633  29537.        ]] soft: [[ 0.  1.]]\n",
      "CP000034.1/3676029-3675823 , predict: [1] supposed: 0 cost: [[ -7142.57421875  27670.57617188]] soft: [[ 0.  1.]]\n",
      "AALC02000029.1/13844-13630 , predict: [1] supposed: 0 cost: [[ -3964.62084961  27845.45507812]] soft: [[ 0.  1.]]\n",
      "AALF02000074.1/688-908 , predict: [1] supposed: 0 cost: [[-15222.30371094  25851.96289062]] soft: [[ 0.  1.]]\n",
      "AALD02000050.1/26165-26384 , predict: [1] supposed: 0 cost: [[-19210.62304688  29137.34765625]] soft: [[ 0.  1.]]\n",
      "CP000647.1/4707421-4707632 , predict: [1] supposed: 0 cost: [[ -1491.67333984  35359.00390625]] soft: [[ 0.  1.]]\n",
      "CU928164.2/3094769-3094563 , predict: [1] supposed: 0 cost: [[ -6721.67578125  28685.04101562]] soft: [[ 0.  1.]]\n",
      "U00096.2/3984455-3984661 , predict: [1] supposed: 0 cost: [[ -7313.75976562  29201.35351562]] soft: [[ 0.  1.]]\n",
      "AALE02000016.1/52978-53200 , predict: [1] supposed: 0 cost: [[ -9252.60839844  30877.4375    ]] soft: [[ 0.  1.]]\n",
      "BX950851.1/4684949-4684740 , predict: [1] supposed: 0 cost: [[  4445.33984375  33938.5859375 ]] soft: [[ 0.  1.]]\n",
      "AAMJ02000024.1/58014-57808 , predict: [1] supposed: 0 cost: [[ -7721.58447266  29663.98046875]] soft: [[ 0.  1.]]\n",
      "AM286415.1/218914-219136 , predict: [1] supposed: 0 cost: [[ -9732.90234375  32613.50390625]] soft: [[ 0.  1.]]\n",
      "CP000038.1/4195535-4195740 , predict: [1] supposed: 0 cost: [[ -3559.86621094  34619.15234375]] soft: [[ 0.  1.]]\n",
      "CP001138.1/4061393-4061600 , predict: [1] supposed: 0 cost: [[ -1719.53100586  26188.12695312]] soft: [[ 0.  1.]]\n",
      "CP001120.1/4151577-4151784 , predict: [1] supposed: 0 cost: [[ -1523.80688477  26379.0703125 ]] soft: [[ 0.  1.]]\n",
      "ABAT01000008.1/60360-60582 , predict: [1] supposed: 0 cost: [[-11603.99609375  32086.28125   ]] soft: [[ 0.  1.]]\n",
      "CP000826.1/4043314-4043147 , predict: [1] supposed: 1 cost: [[-12670.87011719  27268.45703125]] soft: [[ 0.  1.]]\n",
      "BX950851.1/3645067-3644897 , predict: [1] supposed: 1 cost: [[-10701.5625    36668.453125]] soft: [[ 0.  1.]]\n",
      "CP000653.1/3309706-3309558 , predict: [1] supposed: 1 cost: [[-17210.77734375  33890.515625  ]] soft: [[ 0.  1.]]\n",
      "CP001120.1/2764535-2764388 , predict: [1] supposed: 1 cost: [[-17259.09375   24248.796875]] soft: [[ 0.  1.]]\n",
      "CP000647.1/3167027-3166880 , predict: [1] supposed: 1 cost: [[-22787.29882812  24111.359375  ]] soft: [[ 0.  1.]]\n",
      "AALC02000019.1/46319-46483 , predict: [1] supposed: 1 cost: [[-16562.8671875  18870.765625 ]] soft: [[ 0.  1.]]\n",
      "AM286415.1/1156074-1156238 , predict: [1] supposed: 1 cost: [[-14893.19921875  23764.69140625]] soft: [[ 0.  1.]]\n",
      "AALD02000010.1/100030-100194 , predict: [1] supposed: 1 cost: [[-13042.06933594  17868.484375  ]] soft: [[ 0.  1.]]\n",
      "BX571870.1/111637-111479 , predict: [1] supposed: 1 cost: [[ -5151.74121094  26230.30273438]] soft: [[ 0.  1.]]\n",
      "CP000034.1/2545199-2545064 , predict: [1] supposed: 1 cost: [[ -5780.34472656  21929.37304688]] soft: [[ 0.  1.]]\n",
      "CP000948.1/2781127-2780980 , predict: [1] supposed: 1 cost: [[-14091.57128906  21108.90820312]] soft: [[ 0.  1.]]\n",
      "CU928164.2/2865839-2865692 , predict: [1] supposed: 1 cost: [[-14464.85546875  20785.41015625]] soft: [[ 0.  1.]]\n",
      "AP008232.1/3036799-3036631 , predict: [1] supposed: 1 cost: [[-13215.1484375   31730.89257812]] soft: [[ 0.  1.]]\n",
      "AALF02000019.1/601-438 , predict: [1] supposed: 1 cost: [[-11527.90429688  28280.25195312]] soft: [[ 0.  1.]]\n",
      "CP001127.1/2708954-2708807 , predict: [1] supposed: 1 cost: [[-15740.57714844  26543.08789062]] soft: [[ 0.  1.]]\n",
      "AALE02000007.1/162365-162202 , predict: [1] supposed: 1 cost: [[ -3033.8840332   36011.73828125]] soft: [[ 0.  1.]]\n"
     ]
    }
   ],
   "source": [
    "for row in dataTest:\n",
    "    pred = Predict(predData,[[row[:-2]]])[0]\n",
    "#     print ''.join(str(x) for x in list(row[:-2]))\n",
    "    print row[-2],', predict:',pred[0],'supposed:',row[-1],'cost:',pred[1],'soft:',pred[2]"
   ]
  },
  {
   "cell_type": "code",
   "execution_count": null,
   "metadata": {
    "collapsed": true
   },
   "outputs": [],
   "source": []
  }
 ],
 "metadata": {
  "kernelspec": {
   "display_name": "Python 2",
   "language": "python",
   "name": "python2"
  },
  "language_info": {
   "codemirror_mode": {
    "name": "ipython",
    "version": 2
   },
   "file_extension": ".py",
   "mimetype": "text/x-python",
   "name": "python",
   "nbconvert_exporter": "python",
   "pygments_lexer": "ipython2",
   "version": "2.7.9"
  }
 },
 "nbformat": 4,
 "nbformat_minor": 0
}
