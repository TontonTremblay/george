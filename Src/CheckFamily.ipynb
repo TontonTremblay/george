{
 "cells": [
  {
   "cell_type": "code",
   "execution_count": 2,
   "metadata": {
    "collapsed": false
   },
   "outputs": [],
   "source": [
    "from TrainModel3Layers import *"
   ]
  },
  {
   "cell_type": "code",
   "execution_count": 3,
   "metadata": {
    "collapsed": false
   },
   "outputs": [],
   "source": [
    "#Start by selecting out the sequences\n",
    "a = []\n",
    "d = {}\n",
    "dicts_from_file = []\n",
    "with open('../Data/glm_intersections.txt','r') as inf:\n",
    "    for line in inf:\n",
    "        l = eval(line)\n",
    "        a.append(l)\n",
    "        d[l[0]]=1\n",
    "        d[l[1]]=1"
   ]
  },
  {
   "cell_type": "code",
   "execution_count": 4,
   "metadata": {
    "collapsed": false
   },
   "outputs": [],
   "source": [
    "df = pd.read_csv('../Data/seq_data.csv')"
   ]
  },
  {
   "cell_type": "code",
   "execution_count": 5,
   "metadata": {
    "collapsed": false
   },
   "outputs": [],
   "source": [
    "dataTrain = []\n",
    "dataTest = []\n",
    "\n",
    "for i in range(len(df)):\n",
    "    if df.iloc[i][-2] in d:\n",
    "        dataTest.append(df.iloc[i].values)\n",
    "    else:\n",
    "        dataTrain.append(df.iloc[i].values)\n",
    "\n",
    "dataTrain = np.array(dataTrain)\n",
    "dataTest = np.array(dataTest)\n",
    "dfTrain = pd.DataFrame(dataTrain,columns=df.columns)\n",
    "dfTrain.to_csv('../Data/seq_data_train_no_clan.csv',index_label=False)\n",
    "dfTest = pd.DataFrame(dataTest,columns=df.columns)\n",
    "dfTest.to_csv('../Data/seq_data_test_clan.csv',index_label=False)"
   ]
  },
  {
   "cell_type": "code",
   "execution_count": null,
   "metadata": {
    "collapsed": false
   },
   "outputs": [],
   "source": [
    "#Train using everything that does not collide. \n",
    "dftemp = pd.DataFrame(dataTrain)\n",
    "#xy = getDataTrainTest(df)\n",
    "xy = getDataTest(dftemp)\n",
    "predData = Fit(xy,debug=True)\n"
   ]
  },
  {
   "cell_type": "code",
   "execution_count": null,
   "metadata": {
    "collapsed": false
   },
   "outputs": [],
   "source": [
    "for row in dataTest:\n",
    "    pred = Predict(predData,[[row[:-2]]])[0]\n",
    "    print ''.join(str(x) for x in list(row[:-2]))\n",
    "    print row[-2],', predict:',pred[0],'supposed:',row[-1],'cost:',pred[1],'soft:',pred[2]"
   ]
  },
  {
   "cell_type": "code",
   "execution_count": null,
   "metadata": {
    "collapsed": false
   },
   "outputs": [],
   "source": [
    "df.columns.unique()"
   ]
  },
  {
   "cell_type": "code",
   "execution_count": null,
   "metadata": {
    "collapsed": false
   },
   "outputs": [],
   "source": []
  }
 ],
 "metadata": {
  "kernelspec": {
   "display_name": "Python 2",
   "language": "python",
   "name": "python2"
  },
  "language_info": {
   "codemirror_mode": {
    "name": "ipython",
    "version": 2
   },
   "file_extension": ".py",
   "mimetype": "text/x-python",
   "name": "python",
   "nbconvert_exporter": "python",
   "pygments_lexer": "ipython2",
   "version": "2.7.9"
  }
 },
 "nbformat": 4,
 "nbformat_minor": 0
}
