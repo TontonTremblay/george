{
 "metadata": {
  "name": "",
  "signature": "sha256:36c5d45a71f730755e0c6c1da3050d68023d11a85a0b6e4360727d57521da520"
 },
 "nbformat": 3,
 "nbformat_minor": 0,
 "worksheets": [
  {
   "cells": [
    {
     "cell_type": "code",
     "collapsed": false,
     "input": [
      "from TrainModel3Layers import *"
     ],
     "language": "python",
     "metadata": {},
     "outputs": [
      {
       "output_type": "stream",
       "stream": "stdout",
       "text": [
        "Epoch: 0001 cost= 20365.808430990\n",
        "Epoch:"
       ]
      },
      {
       "output_type": "stream",
       "stream": "stdout",
       "text": [
        " 0002 cost= 1396.178636339\n",
        "Epoch:"
       ]
      },
      {
       "output_type": "stream",
       "stream": "stdout",
       "text": [
        " 0003 cost= 82.631793234\n",
        "Epoch:"
       ]
      },
      {
       "output_type": "stream",
       "stream": "stdout",
       "text": [
        " 0004 cost= 0.305959205\n",
        "Epoch:"
       ]
      },
      {
       "output_type": "stream",
       "stream": "stdout",
       "text": [
        " 0005 cost= 0.000000000\n",
        "Epoch:"
       ]
      },
      {
       "output_type": "stream",
       "stream": "stdout",
       "text": [
        " 0006 cost= 0.000000000\n",
        "Epoch:"
       ]
      },
      {
       "output_type": "stream",
       "stream": "stdout",
       "text": [
        " 0007 cost= 0.000000000\n",
        "Epoch:"
       ]
      },
      {
       "output_type": "stream",
       "stream": "stdout",
       "text": [
        " 0008 cost= 0.000000000\n",
        "Epoch:"
       ]
      },
      {
       "output_type": "stream",
       "stream": "stdout",
       "text": [
        " 0009 cost= 0.000000000\n",
        "Epoch:"
       ]
      },
      {
       "output_type": "stream",
       "stream": "stdout",
       "text": [
        " 0010 cost= 0.000000000\n",
        "0.975309"
       ]
      },
      {
       "output_type": "stream",
       "stream": "stdout",
       "text": [
        "\n",
        "[[array([0]), array([[ 26073.53515625,  -7834.08984375]], dtype=float32), array([[ 1.,  0.]], dtype=float32)]]"
       ]
      },
      {
       "output_type": "stream",
       "stream": "stdout",
       "text": [
        "\n"
       ]
      }
     ],
     "prompt_number": 30
    },
    {
     "cell_type": "code",
     "collapsed": false,
     "input": [
      "#Start by selecting out the sequences\n",
      "a = []\n",
      "d = {}\n",
      "dicts_from_file = []\n",
      "with open('../Data/glm_intersections.txt','r') as inf:\n",
      "    for line in inf:\n",
      "        l = eval(line)\n",
      "        a.append(l)\n",
      "        d[l[0]]=1\n",
      "        d[l[1]]=1"
     ],
     "language": "python",
     "metadata": {},
     "outputs": [],
     "prompt_number": 31
    },
    {
     "cell_type": "code",
     "collapsed": false,
     "input": [
      "df = pd.read_csv('../Data/seq_data.csv')"
     ],
     "language": "python",
     "metadata": {},
     "outputs": [],
     "prompt_number": 32
    },
    {
     "cell_type": "code",
     "collapsed": false,
     "input": [
      "dataTrain = []\n",
      "dataTest = []\n",
      "\n",
      "for i in range(len(df)):\n",
      "    if df.iloc[i][-2] in d:\n",
      "        dataTest.append(df.iloc[i].values)\n",
      "    else:\n",
      "        dataTrain.append(df.iloc[i].values)\n",
      "\n",
      "dataTrain = np.array(dataTrain)\n",
      "dataTest = np.array(dataTest)\n"
     ],
     "language": "python",
     "metadata": {},
     "outputs": [],
     "prompt_number": 33
    },
    {
     "cell_type": "code",
     "collapsed": false,
     "input": [
      "#Train using everything that does not collide. \n",
      "df = pd.DataFrame(dataTrain)\n",
      "xy = getDataTest(df)\n",
      "predData = Fit(xy)\n"
     ],
     "language": "python",
     "metadata": {},
     "outputs": [],
     "prompt_number": 34
    },
    {
     "cell_type": "code",
     "collapsed": false,
     "input": [
      "for row in dataTest:\n",
      "    pred = Predict(predData,[[row[:-2]]])[0]\n",
      "    print row[-2],', predict:',pred[0],'supposed:',row[-1],'cost:',pred[1]"
     ],
     "language": "python",
     "metadata": {},
     "outputs": [
      {
       "output_type": "stream",
       "stream": "stdout",
       "text": [
        "CP000880.1/305505-305689 , predict: [1] supposed: 0 cost: [[-16281.89355469  85392.375     ]]\n",
        "CP001891.1/1243453-1243639"
       ]
      },
      {
       "output_type": "stream",
       "stream": "stdout",
       "text": [
        " , predict: [1] supposed: 0 cost: [[-25669.1015625  87607.8828125]]\n",
        "ABAN01000002.1/51522-51706"
       ]
      },
      {
       "output_type": "stream",
       "stream": "stdout",
       "text": [
        " , predict: [1] supposed: 0 cost: [[-26113.1640625  76739.375    ]]\n",
        "AELA01000016.1/37184-37368"
       ]
      },
      {
       "output_type": "stream",
       "stream": "stdout",
       "text": [
        " , predict: [1] supposed: 0 cost: [[-13104.26953125  87748.125     ]]\n",
        "ADUX01000856.1/34511-34695"
       ]
      },
      {
       "output_type": "stream",
       "stream": "stdout",
       "text": [
        " , predict: [1] supposed: 0 cost: [[-21275.81054688  80058.296875  ]]\n",
        "ADUD01000175.1/12969-13153"
       ]
      },
      {
       "output_type": "stream",
       "stream": "stdout",
       "text": [
        " , predict: [1] supposed: 0 cost: [[-13104.26953125  87748.125     ]]\n",
        "AETL01000081.1/40307-40456"
       ]
      },
      {
       "output_type": "stream",
       "stream": "stdout",
       "text": [
        " , predict: [1] supposed: 0 cost: [[  -8666.95410156  116765.84375   ]]\n",
        "AETB01000017.1/40322-40506"
       ]
      },
      {
       "output_type": "stream",
       "stream": "stdout",
       "text": [
        " , predict: [1] supposed: 0 cost: [[-26113.1640625  76739.375    ]]\n",
        "ADVC01000655.1/34553-34737"
       ]
      },
      {
       "output_type": "stream",
       "stream": "stdout",
       "text": [
        " , predict: [1] supposed: 0 cost: [[-21275.81054688  80058.296875  ]]\n",
        "ABEW01000008.1/50137-50321"
       ]
      },
      {
       "output_type": "stream",
       "stream": "stdout",
       "text": [
        " , predict: [1] supposed: 0 cost: [[-26113.1640625  76739.375    ]]\n",
        "AFQK01000017.1/32290-32476"
       ]
      },
      {
       "output_type": "stream",
       "stream": "stdout",
       "text": [
        " , predict: [1] supposed: 0 cost: [[-25669.1015625  87607.8828125]]\n",
        "AGTL01000007.1/34637-34821"
       ]
      },
      {
       "output_type": "stream",
       "stream": "stdout",
       "text": [
        " , predict: [1] supposed: 0 cost: [[-21275.81054688  80058.296875  ]]\n",
        "ACXA01000001.1/32238-32424"
       ]
      },
      {
       "output_type": "stream",
       "stream": "stdout",
       "text": [
        " , predict: [1] supposed: 0 cost: [[-25669.1015625  87607.8828125]]\n",
        "AETT01000008.1/40318-40502"
       ]
      },
      {
       "output_type": "stream",
       "stream": "stdout",
       "text": [
        " , predict: [1] supposed: 0 cost: [[-26113.1640625  76739.375    ]]\n",
        "ABEH02000006.1/207958-208142"
       ]
      },
      {
       "output_type": "stream",
       "stream": "stdout",
       "text": [
        " , predict: [1] supposed: 0 cost: [[-25373.51757812  79361.4609375 ]]\n",
        "AEME01000001.1/2998160-2998344"
       ]
      },
      {
       "output_type": "stream",
       "stream": "stdout",
       "text": [
        " , predict: [1] supposed: 0 cost: [[-20440.4609375  86273.5078125]]\n",
        "AENX01000076.1/9680-9874"
       ]
      },
      {
       "output_type": "stream",
       "stream": "stdout",
       "text": [
        " , predict: [1] supposed: 0 cost: [[-28294.10546875  88037.8828125 ]]\n",
        "AESM01000020.1/40322-40506"
       ]
      },
      {
       "output_type": "stream",
       "stream": "stdout",
       "text": [
        " , predict: [1] supposed: 0 cost: [[-26113.1640625  76739.375    ]]\n",
        "CP000946.1/1221584-1221768"
       ]
      },
      {
       "output_type": "stream",
       "stream": "stdout",
       "text": [
        " , predict: [1] supposed: 0 cost: [[ -9600.640625  88177.265625]]\n",
        "AGTG01000020.1/34582-34766"
       ]
      },
      {
       "output_type": "stream",
       "stream": "stdout",
       "text": [
        " , predict: [1] supposed: 0 cost: [[-21275.81054688  80058.296875  ]]\n",
        "AESV01000046.1/40319-40503"
       ]
      },
      {
       "output_type": "stream",
       "stream": "stdout",
       "text": [
        " , predict: [1] supposed: 0 cost: [[-26113.1640625  76739.375    ]]\n",
        "ADTZ01000465.1/12965-13149"
       ]
      },
      {
       "output_type": "stream",
       "stream": "stdout",
       "text": [
        " , predict: [1] supposed: 0 cost: [[-13104.26953125  87748.125     ]]\n",
        "CAAS01000222.1/1358-1542"
       ]
      },
      {
       "output_type": "stream",
       "stream": "stdout",
       "text": [
        " , predict: [1] supposed: 0 cost: [[-28033.07617188  73708.4921875 ]]\n",
        "ABFG01000004.1/33314-33498"
       ]
      },
      {
       "output_type": "stream",
       "stream": "stdout",
       "text": [
        " , predict: [1] supposed: 0 cost: [[-26113.1640625  76739.375    ]]\n",
        "AE014613.1/332915-333099"
       ]
      },
      {
       "output_type": "stream",
       "stream": "stdout",
       "text": [
        " , predict: [1] supposed: 0 cost: [[-28033.07617188  73708.4921875 ]]\n",
        "AERV01000022.1/51005-51189"
       ]
      },
      {
       "output_type": "stream",
       "stream": "stdout",
       "text": [
        " , predict: [1] supposed: 0 cost: [[-29493.59375  73838.3125 ]]\n",
        "ADGK01000038.1/24314-24476"
       ]
      },
      {
       "output_type": "stream",
       "stream": "stdout",
       "text": [
        " , predict: [1] supposed: 0 cost: [[  19602.68359375  112434.7265625 ]]\n",
        "AFWW01000010.1/17751-17963"
       ]
      },
      {
       "output_type": "stream",
       "stream": "stdout",
       "text": [
        " , predict: [1] supposed: 0 cost: [[ 34380.5703125  95279.4609375]]\n",
        "AEHU01000035.1/35291-35475"
       ]
      },
      {
       "output_type": "stream",
       "stream": "stdout",
       "text": [
        " , predict: [1] supposed: 0 cost: [[-13104.26953125  87748.125     ]]\n",
        "ADTJ01000260.1/23032-23216"
       ]
      },
      {
       "output_type": "stream",
       "stream": "stdout",
       "text": [
        " , predict: [1] supposed: 0 cost: [[-21275.81054688  80058.296875  ]]\n",
        "CP000822.1/222309-222493"
       ]
      }
     ]
    },
    {
     "cell_type": "code",
     "collapsed": false,
     "input": [],
     "language": "python",
     "metadata": {},
     "outputs": []
    }
   ],
   "metadata": {}
  }
 ]
}