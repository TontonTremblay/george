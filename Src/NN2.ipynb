{
 "cells": [
  {
   "cell_type": "code",
   "execution_count": 1,
   "metadata": {
    "collapsed": false
   },
   "outputs": [],
   "source": [
    "import tensorflow as tf\n",
    "import pandas as pd\n",
    "import numpy as np\n",
    "import os\n",
    "#data_path = os.path.join('..', 'Data', 'seq_struct_data.csv')\n",
    "#df = pd.read_csv(data_path)\n",
    "data_path = os.path.join('..', 'Data', 'seq_data.csv')\n",
    "df = pd.read_csv(data_path)\n",
    "#df.columns"
   ]
  },
  {
   "cell_type": "code",
   "execution_count": 2,
   "metadata": {
    "collapsed": false
   },
   "outputs": [],
   "source": [
    "def getData(data):\n",
    "    data = data.reindex(np.random.permutation(df.index))\n",
    "    data = data.values\n",
    "    X = data[:,:-2]\n",
    "    y = data[:,-1]\n",
    "    #Change the y to a 2dimensionnal \n",
    "    ytemp = []\n",
    "    for i in y:\n",
    "        if i is 0:\n",
    "            ytemp.append([1,0])\n",
    "        else:\n",
    "            ytemp.append([0,1])\n",
    "    y = np.array(ytemp)\n",
    "    \n",
    "    t = 0.15 #keep 15 percent for testing\n",
    "    x_train = X[int(t*len(X)):]\n",
    "    x_test = X[:int(t*len(X))]\n",
    "    y_train = y[int(t*len(y)):]\n",
    "    y_test = y[:int(t*len(y))]\n",
    "    return (x_train,y_train,x_test,y_test)\n",
    "    \n",
    "xy = getData(df)"
   ]
  },
  {
   "cell_type": "code",
   "execution_count": 3,
   "metadata": {
    "collapsed": false
   },
   "outputs": [],
   "source": [
    "#2 is hard coded but it should be the number of unique things in y or xy[1]\n",
    "numbClasses = 2\n",
    "numbDim= len(xy[0][0])\n",
    "\n",
    "# Parameters\n",
    "learning_rate = 0.001\n",
    "training_epochs = 10\n",
    "batch_size = 100\n",
    "display_step = 1\n",
    "\n",
    "#Network Parameters\n",
    "n_hidden_1 = 260\n",
    "n_hidden_2 = 260\n",
    "n_input = numbDim \n",
    "n_classes = numbClasses \n",
    "\n",
    "# Create model\n",
    "x = tf.placeholder(\"float\", [None, n_input])\n",
    "y = tf.placeholder(\"float\", [None, n_classes])\n",
    "\n",
    "def multilayer_perceptron(_X, _weights, _biases):\n",
    "    layer_1 = tf.nn.relu(tf.matmul(_X, _weights['h1']) + _biases['b1']) #Hidden layer with RELU activation\n",
    "    layer_2 = tf.nn.relu(tf.matmul(layer_1, _weights['h2']) + _biases['b2']) #Hidden layer with RELU activation\n",
    "    return tf.matmul(layer_2, weights['out']) + biases['out']\n",
    "\n",
    "weights = {\n",
    "    'h1': tf.Variable(tf.random_normal([n_input, n_hidden_1])),\n",
    "    'h2': tf.Variable(tf.random_normal([n_hidden_1, n_hidden_2])),\n",
    "    'out': tf.Variable(tf.random_normal([n_hidden_2, n_classes]))\n",
    "}\n",
    "\n",
    "biases = {\n",
    "    'b1': tf.Variable(tf.random_normal([n_hidden_1])),\n",
    "    'b2': tf.Variable(tf.random_normal([n_hidden_2])),\n",
    "    'out': tf.Variable(tf.random_normal([n_classes]))\n",
    "}\n",
    "\n",
    "pred = multilayer_perceptron(x, weights, biases)\n",
    "cost = tf.reduce_mean(tf.nn.softmax_cross_entropy_with_logits(pred, y))\n",
    "optimizer = tf.train.AdamOptimizer(learning_rate=learning_rate).minimize(cost)\n",
    "\n"
   ]
  },
  {
   "cell_type": "code",
   "execution_count": 6,
   "metadata": {
    "collapsed": false
   },
   "outputs": [],
   "source": [
    "# Train\n",
    "def Train():\n",
    "    xy = getData(df)\n",
    "    init = tf.initialize_all_variables()\n",
    "\n",
    "    sess = tf.InteractiveSession()\n",
    "    sess.run(init)\n",
    "    for epoch in range(training_epochs):\n",
    "        avg_cost = 0.\n",
    "        total_batch = len(xy[0])/batch_size\n",
    "        for i in range(total_batch):\n",
    "            batch = [xy[0][i:i+batch_size],xy[1][i:i+batch_size]]\n",
    "            sess.run(optimizer, feed_dict={x: batch[0], y: batch[1]})\n",
    "            avg_cost += sess.run(cost, feed_dict={x: batch[0], y: batch[1]})/total_batch\n",
    "    #     if epoch % display_step == 0:\n",
    "    #        print \"Epoch:\", '%04d' % (epoch+1), \"cost=\", \"{:.9f}\".format(avg_cost)\n",
    "    # Test trained model\n",
    "\n",
    "    correct_prediction = tf.equal(tf.argmax(pred,1), tf.argmax(y,1))\n",
    "    accuracy = tf.reduce_mean(tf.cast(correct_prediction, \"float\"))\n",
    "    return sess.run(accuracy,feed_dict={x: xy[2], y: xy[3]})"
   ]
  },
  {
   "cell_type": "code",
   "execution_count": 7,
   "metadata": {
    "collapsed": false
   },
   "outputs": [],
   "source": [
    "n = 100\n",
    "results = []\n",
    "for i in range(n):\n",
    "    results+=[Train()]"
   ]
  },
  {
   "cell_type": "code",
   "execution_count": 9,
   "metadata": {
    "collapsed": false
   },
   "outputs": [],
   "source": [
    "# %matplotlib inline\n",
    "import seaborn as sns\n",
    "sns.set_context(\"talk\")\n",
    "sns.distplot(results)\n",
    "#sns.plt.show()\n",
    "path_out = os.path.join('..', 'Results', 'res.pdf')\n",
    "sns.plt.savefig(path_out)"
   ]
  },
  {
   "cell_type": "code",
   "execution_count": null,
   "metadata": {
    "collapsed": true
   },
   "outputs": [],
   "source": []
  }
 ],
 "metadata": {
  "kernelspec": {
   "display_name": "Python 2",
   "language": "python",
   "name": "python2"
  },
  "language_info": {
   "codemirror_mode": {
    "name": "ipython",
    "version": 2
   },
   "file_extension": ".py",
   "mimetype": "text/x-python",
   "name": "python",
   "nbconvert_exporter": "python",
   "pygments_lexer": "ipython2",
   "version": "2.7.10"
  }
 },
 "nbformat": 4,
 "nbformat_minor": 0
}
