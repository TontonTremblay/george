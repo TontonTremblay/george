{
 "metadata": {
  "name": "",
  "signature": "sha256:7efa63efb9d7f4c974c3cefff5750ae582d0d6c86b515a4212924a2ebc296158"
 },
 "nbformat": 3,
 "nbformat_minor": 0,
 "worksheets": [
  {
   "cells": [
    {
     "cell_type": "code",
     "collapsed": false,
     "input": [
      "import tensorflow as tf\n",
      "import pandas as pd\n",
      "import numpy as np\n",
      "#df = pd.read_csv('seq_struct_data.csv')\n",
      "df = pd.read_csv('seq_data.csv')\n",
      "#df.columns"
     ],
     "language": "python",
     "metadata": {},
     "outputs": [],
     "prompt_number": 1
    },
    {
     "cell_type": "code",
     "collapsed": false,
     "input": [
      "def getData(data):\n",
      "    data = data.reindex(np.random.permutation(df.index))\n",
      "    data = data.values\n",
      "    X = data[:,:-2]\n",
      "    y = data[:,-1]\n",
      "    #Change the y to a 2dimensionnal \n",
      "    ytemp = []\n",
      "    for i in y:\n",
      "        if i is 0:\n",
      "            ytemp.append([1,0])\n",
      "        else:\n",
      "            ytemp.append([0,1])\n",
      "    y = np.array(ytemp)\n",
      "    \n",
      "    t = 0.15 #keep 15 percent for testing\n",
      "    x_train = X[t*len(X):]\n",
      "    x_test = X[:t*len(X)]\n",
      "    y_train = y[t*len(y):]\n",
      "    y_test = y[:t*len(y)]\n",
      "    return (x_train,y_train,x_test,y_test)\n",
      "    \n",
      "xy = getData(df)"
     ],
     "language": "python",
     "metadata": {},
     "outputs": [],
     "prompt_number": 2
    },
    {
     "cell_type": "code",
     "collapsed": false,
     "input": [
      "#2 is hard coded but it should be the number of unique things in y or xy[1]\n",
      "numbClasses = 2\n",
      "numbDim= len(xy[0][0])\n",
      "\n",
      "# Parameters\n",
      "learning_rate = 0.001\n",
      "training_epochs = 10\n",
      "batch_size = 100\n",
      "display_step = 1\n",
      "\n",
      "#Network Parameters\n",
      "n_hidden_1 = 260\n",
      "n_hidden_2 = 260\n",
      "n_input = numbDim \n",
      "n_classes = numbClasses \n",
      "\n",
      "# Create model\n",
      "x = tf.placeholder(\"float\", [None, n_input])\n",
      "y = tf.placeholder(\"float\", [None, n_classes])\n",
      "\n",
      "def multilayer_perceptron(_X, _weights, _biases):\n",
      "    layer_1 = tf.nn.relu(tf.matmul(_X, _weights['h1']) + _biases['b1']) #Hidden layer with RELU activation\n",
      "    layer_2 = tf.nn.relu(tf.matmul(layer_1, _weights['h2']) + _biases['b2']) #Hidden layer with RELU activation\n",
      "    return tf.matmul(layer_2, weights['out']) + biases['out']\n",
      "\n",
      "weights = {\n",
      "    'h1': tf.Variable(tf.random_normal([n_input, n_hidden_1])),\n",
      "    'h2': tf.Variable(tf.random_normal([n_hidden_1, n_hidden_2])),\n",
      "    'out': tf.Variable(tf.random_normal([n_hidden_2, n_classes]))\n",
      "}\n",
      "\n",
      "biases = {\n",
      "    'b1': tf.Variable(tf.random_normal([n_hidden_1])),\n",
      "    'b2': tf.Variable(tf.random_normal([n_hidden_2])),\n",
      "    'out': tf.Variable(tf.random_normal([n_classes]))\n",
      "}\n",
      "\n",
      "pred = multilayer_perceptron(x, weights, biases)\n",
      "cost = tf.reduce_mean(tf.nn.softmax_cross_entropy_with_logits(pred, y))\n",
      "optimizer = tf.train.AdamOptimizer(learning_rate=learning_rate).minimize(cost)\n",
      "sess = tf.InteractiveSession()\n"
     ],
     "language": "python",
     "metadata": {},
     "outputs": [],
     "prompt_number": 8
    },
    {
     "cell_type": "code",
     "collapsed": false,
     "input": [
      "# Train\n",
      "def Train():\n",
      "    xy = getData(df)\n",
      "    init = tf.initialize_all_variables()\n",
      "\n",
      "\n",
      "    sess.run(init)\n",
      "    for epoch in range(training_epochs):\n",
      "        avg_cost = 0.\n",
      "        total_batch = int(len(xy[0])/batch_size)\n",
      "        for i in range(total_batch):\n",
      "            batch = [xy[0][i:i+batch_size],xy[1][i:i+batch_size]]\n",
      "            sess.run(optimizer, feed_dict={x: batch[0], y: batch[1]})\n",
      "            avg_cost += sess.run(cost, feed_dict={x: batch[0], y: batch[1]})/total_batch\n",
      "    #     if epoch % display_step == 0:\n",
      "    #        print \"Epoch:\", '%04d' % (epoch+1), \"cost=\", \"{:.9f}\".format(avg_cost)\n",
      "    # Test trained model\n",
      "\n",
      "    correct_prediction = tf.equal(tf.argmax(pred,1), tf.argmax(y,1))\n",
      "    accuracy = tf.reduce_mean(tf.cast(correct_prediction, \"float\"))\n",
      "    return [sess.run(accuracy,feed_dict={x: xy[2], y: xy[3]}),sess]"
     ],
     "language": "python",
     "metadata": {},
     "outputs": [],
     "prompt_number": 9
    },
    {
     "cell_type": "code",
     "collapsed": false,
     "input": [
      "#This is how you test an entry\n",
      "r = Train()\n",
      "test = [df.values[1,:-2]]\n",
      "\n",
      "print sess.run(pred ,feed_dict={x:test})\n",
      "print sess.run(tf.nn.softmax(pred) ,feed_dict={x:test})\n",
      "print 'pred:',sess.run(tf.argmax(pred,1) ,feed_dict={x:test}),'real',df.values[1,-1]"
     ],
     "language": "python",
     "metadata": {},
     "outputs": [
      {
       "output_type": "stream",
       "stream": "stdout",
       "text": [
        "[[ 3169.23046875  -708.69775391]]\n",
        "[[ 1.  0.]]\n",
        "pred: [0] real 0\n"
       ]
      }
     ],
     "prompt_number": 24
    },
    {
     "cell_type": "code",
     "collapsed": false,
     "input": [],
     "language": "python",
     "metadata": {},
     "outputs": []
    },
    {
     "cell_type": "code",
     "collapsed": false,
     "input": [
      "n = 100\n",
      "results = []\n",
      "for i in range(n):\n",
      "    results+=[Train()]"
     ],
     "language": "python",
     "metadata": {},
     "outputs": [],
     "prompt_number": 20
    },
    {
     "cell_type": "code",
     "collapsed": false,
     "input": [
      "# %matplotlib inline\n",
      "import seaborn as sns\n",
      "sns.set_context(\"talk\")\n",
      "sns.distplot(results)\n",
      "path_out = os.path.join('..', 'Results', 'res.pdf')\n",
      "sns.plt.savefig(path_out)"
     ],
     "language": "python",
     "metadata": {},
     "outputs": [
      {
       "metadata": {},
       "output_type": "display_data",
       "png": "[encoded data removed]",
       "text": [
        "<matplotlib.figure.Figure at 0x112c4d350>"
       ]
      }
     ],
     "prompt_number": 25
    },
    {
     "cell_type": "code",
     "collapsed": false,
     "input": [],
     "language": "python",
     "metadata": {},
     "outputs": []
    }
   ],
   "metadata": {}
  }
 ]
}